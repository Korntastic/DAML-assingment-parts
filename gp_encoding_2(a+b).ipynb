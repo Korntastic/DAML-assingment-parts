{
 "cells": [
  {
   "cell_type": "code",
   "execution_count": 1,
   "metadata": {
    "id": "T0Hmbu6aVuZD"
   },
   "outputs": [],
   "source": [
    "import pandas as pd\n"
   ]
  },
  {
   "cell_type": "code",
   "execution_count": 2,
   "metadata": {
    "id": "-cBf6-PBWzz6"
   },
   "outputs": [],
   "source": [
    "df = pd.read_csv(\"mentalhealth (2).csv\")"
   ]
  },
  {
   "cell_type": "code",
   "execution_count": 3,
   "metadata": {
    "colab": {
     "base_uri": "https://localhost:8080/"
    },
    "id": "oWXmwA_wXFvv",
    "outputId": "b164916a-d45f-487f-a6ea-4e2d0e45696c"
   },
   "outputs": [
    {
     "name": "stdout",
     "output_type": "stream",
     "text": [
      "  unnamed: 0                                          statement   status  \\\n",
      "0          0                                         oh my gosh  Anxiety   \n",
      "1          1  trouble sleeping, confused mind, restless hear...  Anxiety   \n",
      "2          2  All wrong, back off dear, forward doubt. Stay ...  Anxiety   \n",
      "3          3  I've shifted my focus to something else but I'...  Anxiety   \n",
      "4          4  I'm restless and restless, it's been a month n...  Anxiety   \n",
      "\n",
      "  binary_status  \n",
      "0    Depression  \n",
      "1    Depression  \n",
      "2    Depression  \n",
      "3    Depression  \n",
      "4    Depression  \n"
     ]
    }
   ],
   "source": [
    "print(df.head())"
   ]
  },
  {
   "cell_type": "markdown",
   "metadata": {
    "id": "osBFeD-Dcm_8"
   },
   "source": [
    "Deleting the previous status column with all the 7 states."
   ]
  },
  {
   "cell_type": "code",
   "execution_count": 5,
   "metadata": {
    "id": "BPlgJcksYqUi"
   },
   "outputs": [],
   "source": [
    "df = df.drop('status', axis=1)"
   ]
  },
  {
   "cell_type": "code",
   "execution_count": 6,
   "metadata": {
    "colab": {
     "base_uri": "https://localhost:8080/"
    },
    "id": "VnrWWo00YsY1",
    "outputId": "7935368f-8271-40f1-b9b1-c136f7bf7f15"
   },
   "outputs": [
    {
     "name": "stdout",
     "output_type": "stream",
     "text": [
      "  unnamed: 0                                          statement binary_status\n",
      "0          0                                         oh my gosh    Depression\n",
      "1          1  trouble sleeping, confused mind, restless hear...    Depression\n",
      "2          2  All wrong, back off dear, forward doubt. Stay ...    Depression\n",
      "3          3  I've shifted my focus to something else but I'...    Depression\n",
      "4          4  I'm restless and restless, it's been a month n...    Depression\n"
     ]
    }
   ],
   "source": [
    "print(df.head())"
   ]
  },
  {
   "cell_type": "markdown",
   "metadata": {
    "id": "Idt4oY0SaMSK"
   },
   "source": [
    "**Encoding the status column**"
   ]
  },
  {
   "cell_type": "code",
   "execution_count": 8,
   "metadata": {
    "colab": {
     "base_uri": "https://localhost:8080/"
    },
    "id": "rvDftOCoZJzv",
    "outputId": "361a4269-2af2-4805-fd2c-9f59473daa25"
   },
   "outputs": [
    {
     "name": "stdout",
     "output_type": "stream",
     "text": [
      "      unnamed: 0                                          statement  \\\n",
      "0              0                                         oh my gosh   \n",
      "1              1  trouble sleeping, confused mind, restless hear...   \n",
      "2              2  All wrong, back off dear, forward doubt. Stay ...   \n",
      "3              3  I've shifted my focus to something else but I'...   \n",
      "4              4  I'm restless and restless, it's been a month n...   \n",
      "...          ...                                                ...   \n",
      "53042      53038  Nobody takes me seriously I’ve (24M) dealt wit...   \n",
      "53043      53039  selfishness  \"I don't feel very good, it's lik...   \n",
      "53044      53040  Is there any way to sleep better? I can't slee...   \n",
      "53045      53041  Public speaking tips? Hi, all. I have to give ...   \n",
      "53046      53042  I have really bad door anxiety! It's not about...   \n",
      "\n",
      "       binary_status  \n",
      "0                  0  \n",
      "1                  0  \n",
      "2                  0  \n",
      "3                  0  \n",
      "4                  0  \n",
      "...              ...  \n",
      "53042              0  \n",
      "53043              0  \n",
      "53044              0  \n",
      "53045              0  \n",
      "53046              0  \n",
      "\n",
      "[53047 rows x 3 columns]\n"
     ]
    }
   ],
   "source": [
    "from sklearn.preprocessing import LabelEncoder\n",
    "\n",
    "label_encoder = LabelEncoder()\n",
    "\n",
    "# Convert 'Status' column to numerical (Normal → 0, Depression → 1)\n",
    "df['binary_status'] = label_encoder.fit_transform(df['binary_status'])\n",
    "\n",
    "# Display first few rows to check conversion\n",
    "print(df)\n"
   ]
  },
  {
   "cell_type": "markdown",
   "metadata": {
    "id": "8ajMHC_wZK9R"
   },
   "source": []
  },
  {
   "cell_type": "code",
   "execution_count": 10,
   "metadata": {
    "colab": {
     "base_uri": "https://localhost:8080/"
    },
    "id": "c2lyBUY8Unit",
    "outputId": "c7935620-67d2-4dd0-b70b-d51537715ac1"
   },
   "outputs": [
    {
     "name": "stdout",
     "output_type": "stream",
     "text": [
      "  unnamed: 0                                          statement  binary_status\n",
      "0          0                                         oh my gosh              0\n",
      "1          1  trouble sleeping, confused mind, restless hear...              0\n",
      "2          2  All wrong, back off dear, forward doubt. Stay ...              0\n",
      "3          3  I've shifted my focus to something else but I'...              0\n",
      "4          4  I'm restless and restless, it's been a month n...              0\n"
     ]
    }
   ],
   "source": [
    "print(df.head())"
   ]
  },
  {
   "cell_type": "markdown",
   "metadata": {
    "id": "4qa6bTdFB4SP"
   },
   "source": [
    "Applying TF-IDF on the \"Statement\" column"
   ]
  },
  {
   "cell_type": "code",
   "execution_count": 15,
   "metadata": {
    "colab": {
     "base_uri": "https://localhost:8080/"
    },
    "id": "USBN8v2KBsWQ",
    "outputId": "985cf59b-d870-4778-98e9-5ac4e6a43a26"
   },
   "outputs": [
    {
     "name": "stdout",
     "output_type": "stream",
     "text": [
      "TF-IDF Transformed Shape: (53047, 59229)\n"
     ]
    }
   ],
   "source": [
    "from sklearn.feature_extraction.text import TfidfVectorizer\n",
    "\n",
    "# Fill NaN values with an empty string\n",
    "df[\"statement\"] = df[\"statement\"].fillna(\"\")\n",
    "\n",
    "# Initialize TF-IDF Vectorizer\n",
    "tfidf_vectorizer = TfidfVectorizer()\n",
    "\n",
    "# Apply TF-IDF encoding on the \"Statement\" column\n",
    "X_tfidf = tfidf_vectorizer.fit_transform(df[\"statement\"])\n",
    "\n",
    "\n",
    "# Print the shape of transformed data\n",
    "print(\"TF-IDF Transformed Shape:\", X_tfidf.shape)\n",
    "\n",
    "\n"
   ]
  },
  {
   "cell_type": "markdown",
   "metadata": {
    "id": "OIj5QyzNBtJ2"
   },
   "source": [
    "Splitting the dataset"
   ]
  },
  {
   "cell_type": "code",
   "execution_count": 17,
   "metadata": {
    "id": "-OYbeqjYUqB5"
   },
   "outputs": [
    {
     "name": "stdout",
     "output_type": "stream",
     "text": [
      "Training Set Shape: (42437, 59229)\n",
      "Testing Set Shape: (10610, 59229)\n"
     ]
    }
   ],
   "source": [
    "from sklearn.model_selection import train_test_split\n",
    "\n",
    "# Define features (X) and target (y)\n",
    "X = X_tfidf  # TF-IDF transformed text data\n",
    "y = df[\"binary_status\"]  # Encoded \"Status\" column\n",
    "\n",
    "# Split the dataset (80% training, 20% testing)\n",
    "X_train, X_test, y_train, y_test = train_test_split(X, y, test_size=0.2, random_state=42)\n",
    "\n",
    "# Print the shapes of training and testing sets\n",
    "print(\"Training Set Shape:\", X_train.shape)\n",
    "print(\"Testing Set Shape:\", X_test.shape)\n"
   ]
  },
  {
   "cell_type": "code",
   "execution_count": 21,
   "metadata": {
    "id": "8AQIm2uOEuW-"
   },
   "outputs": [],
   "source": [
    "df.to_csv('output.csv', index=False)"
   ]
  },
  {
   "cell_type": "code",
   "execution_count": null,
   "metadata": {},
   "outputs": [],
   "source": []
  }
 ],
 "metadata": {
  "colab": {
   "provenance": []
  },
  "kernelspec": {
   "display_name": "Python [conda env:base] *",
   "language": "python",
   "name": "conda-base-py"
  },
  "language_info": {
   "codemirror_mode": {
    "name": "ipython",
    "version": 3
   },
   "file_extension": ".py",
   "mimetype": "text/x-python",
   "name": "python",
   "nbconvert_exporter": "python",
   "pygments_lexer": "ipython3",
   "version": "3.12.7"
  }
 },
 "nbformat": 4,
 "nbformat_minor": 4
}
