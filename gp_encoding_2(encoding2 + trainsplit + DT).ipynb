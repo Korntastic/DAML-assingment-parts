{
  "nbformat": 4,
  "nbformat_minor": 0,
  "metadata": {
    "colab": {
      "provenance": []
    },
    "kernelspec": {
      "name": "python3",
      "display_name": "Python 3"
    },
    "language_info": {
      "name": "python"
    }
  },
  "cells": [
    {
      "cell_type": "code",
      "execution_count": 11,
      "metadata": {
        "id": "T0Hmbu6aVuZD"
      },
      "outputs": [],
      "source": [
        "import pandas as pd\n"
      ]
    },
    {
      "cell_type": "code",
      "source": [
        "df = pd.read_csv(\"mentalhealth (2).csv\")"
      ],
      "metadata": {
        "id": "-cBf6-PBWzz6"
      },
      "execution_count": 12,
      "outputs": []
    },
    {
      "cell_type": "code",
      "source": [
        "print(df.head())"
      ],
      "metadata": {
        "colab": {
          "base_uri": "https://localhost:8080/"
        },
        "id": "oWXmwA_wXFvv",
        "outputId": "2b7e9293-147d-4669-bef1-756e650b40f4"
      },
      "execution_count": 13,
      "outputs": [
        {
          "output_type": "stream",
          "name": "stdout",
          "text": [
            "  unnamed: 0                                          statement   status  \\\n",
            "0          0                                         oh my gosh  Anxiety   \n",
            "1          1  trouble sleeping, confused mind, restless hear...  Anxiety   \n",
            "2          2  All wrong, back off dear, forward doubt. Stay ...  Anxiety   \n",
            "3          3  I've shifted my focus to something else but I'...  Anxiety   \n",
            "4          4  I'm restless and restless, it's been a month n...  Anxiety   \n",
            "\n",
            "  binary_status  \n",
            "0    Depression  \n",
            "1    Depression  \n",
            "2    Depression  \n",
            "3    Depression  \n",
            "4    Depression  \n"
          ]
        }
      ]
    },
    {
      "cell_type": "markdown",
      "source": [
        "Deleting the previous status column with all the 7 states."
      ],
      "metadata": {
        "id": "osBFeD-Dcm_8"
      }
    },
    {
      "cell_type": "code",
      "source": [
        "df = df.drop('status', axis=1)"
      ],
      "metadata": {
        "id": "BPlgJcksYqUi"
      },
      "execution_count": 14,
      "outputs": []
    },
    {
      "cell_type": "code",
      "source": [
        "print(df.head())"
      ],
      "metadata": {
        "colab": {
          "base_uri": "https://localhost:8080/"
        },
        "id": "VnrWWo00YsY1",
        "outputId": "62134777-dcb8-466e-d71f-5e6d727f06ba"
      },
      "execution_count": 15,
      "outputs": [
        {
          "output_type": "stream",
          "name": "stdout",
          "text": [
            "  unnamed: 0                                          statement binary_status\n",
            "0          0                                         oh my gosh    Depression\n",
            "1          1  trouble sleeping, confused mind, restless hear...    Depression\n",
            "2          2  All wrong, back off dear, forward doubt. Stay ...    Depression\n",
            "3          3  I've shifted my focus to something else but I'...    Depression\n",
            "4          4  I'm restless and restless, it's been a month n...    Depression\n"
          ]
        }
      ]
    },
    {
      "cell_type": "markdown",
      "source": [
        "**Encoding the status column**"
      ],
      "metadata": {
        "id": "Idt4oY0SaMSK"
      }
    },
    {
      "cell_type": "code",
      "source": [
        "from sklearn.preprocessing import LabelEncoder\n",
        "\n",
        "label_encoder = LabelEncoder()\n",
        "\n",
        "# Convert 'Status' column to numerical (Normal → 0, Depression → 1)\n",
        "df['binary_status'] = label_encoder.fit_transform(df['binary_status'])\n",
        "\n",
        "# Display first few rows to check conversion\n",
        "print(df)\n"
      ],
      "metadata": {
        "colab": {
          "base_uri": "https://localhost:8080/"
        },
        "id": "rvDftOCoZJzv",
        "outputId": "8b84a943-fc55-44d3-e821-b65e4afc0de3"
      },
      "execution_count": 16,
      "outputs": [
        {
          "output_type": "stream",
          "name": "stdout",
          "text": [
            "      unnamed: 0                                          statement  \\\n",
            "0              0                                         oh my gosh   \n",
            "1              1  trouble sleeping, confused mind, restless hear...   \n",
            "2              2  All wrong, back off dear, forward doubt. Stay ...   \n",
            "3              3  I've shifted my focus to something else but I'...   \n",
            "4              4  I'm restless and restless, it's been a month n...   \n",
            "...          ...                                                ...   \n",
            "53042      53038  Nobody takes me seriously I’ve (24M) dealt wit...   \n",
            "53043      53039  selfishness  \"I don't feel very good, it's lik...   \n",
            "53044      53040  Is there any way to sleep better? I can't slee...   \n",
            "53045      53041  Public speaking tips? Hi, all. I have to give ...   \n",
            "53046      53042  I have really bad door anxiety! It's not about...   \n",
            "\n",
            "       binary_status  \n",
            "0                  0  \n",
            "1                  0  \n",
            "2                  0  \n",
            "3                  0  \n",
            "4                  0  \n",
            "...              ...  \n",
            "53042              0  \n",
            "53043              0  \n",
            "53044              0  \n",
            "53045              0  \n",
            "53046              0  \n",
            "\n",
            "[53047 rows x 3 columns]\n"
          ]
        }
      ]
    },
    {
      "cell_type": "markdown",
      "source": [],
      "metadata": {
        "id": "8ajMHC_wZK9R"
      }
    },
    {
      "cell_type": "code",
      "source": [
        "print(df.head())"
      ],
      "metadata": {
        "colab": {
          "base_uri": "https://localhost:8080/"
        },
        "id": "c2lyBUY8Unit",
        "outputId": "23772273-dc4f-4c91-a27c-2e299ebd2e33"
      },
      "execution_count": 17,
      "outputs": [
        {
          "output_type": "stream",
          "name": "stdout",
          "text": [
            "  unnamed: 0                                          statement  binary_status\n",
            "0          0                                         oh my gosh              0\n",
            "1          1  trouble sleeping, confused mind, restless hear...              0\n",
            "2          2  All wrong, back off dear, forward doubt. Stay ...              0\n",
            "3          3  I've shifted my focus to something else but I'...              0\n",
            "4          4  I'm restless and restless, it's been a month n...              0\n"
          ]
        }
      ]
    },
    {
      "cell_type": "markdown",
      "source": [
        "Applying TF-IDF on the \"Statement\" column"
      ],
      "metadata": {
        "id": "4qa6bTdFB4SP"
      }
    },
    {
      "cell_type": "code",
      "source": [
        "from sklearn.feature_extraction.text import TfidfVectorizer\n",
        "\n",
        "# Fill NaN values with an empty string\n",
        "df[\"statement\"] = df[\"statement\"].fillna(\"\")\n",
        "\n",
        "# Initialize TF-IDF Vectorizer\n",
        "tfidf_vectorizer = TfidfVectorizer()\n",
        "\n",
        "# Apply TF-IDF encoding on the \"Statement\" column\n",
        "X_tfidf = tfidf_vectorizer.fit_transform(df[\"statement\"])\n",
        "\n",
        "\n",
        "# Print the shape of transformed data\n",
        "print(\"TF-IDF Transformed Shape:\", X_tfidf.shape)\n",
        "\n"
      ],
      "metadata": {
        "colab": {
          "base_uri": "https://localhost:8080/"
        },
        "id": "USBN8v2KBsWQ",
        "outputId": "6f2e5576-f188-4f6c-c901-3376b9dbd16c"
      },
      "execution_count": 18,
      "outputs": [
        {
          "output_type": "stream",
          "name": "stdout",
          "text": [
            "TF-IDF Transformed Shape: (53047, 59229)\n"
          ]
        }
      ]
    },
    {
      "cell_type": "markdown",
      "source": [
        "Splitting the dataset"
      ],
      "metadata": {
        "id": "OIj5QyzNBtJ2"
      }
    },
    {
      "cell_type": "code",
      "source": [
        "from sklearn.model_selection import train_test_split\n",
        "\n",
        "# Define features (X) and target (y)\n",
        "X = X_tfidf  # TF-IDF transformed text data\n",
        "y = df[\"binary_status\"]  # Encoded \"Status\" column\n",
        "\n",
        "# Split the dataset (80% training, 20% testing)\n",
        "X_train, X_test, y_train, y_test = train_test_split(X, y, test_size=0.2, random_state=42)\n",
        "\n",
        "# Print the shapes of training and testing sets\n",
        "print(\"Training Set Shape:\", X_train.shape)\n",
        "print(\"Testing Set Shape:\", X_test.shape)\n",
        "\n"
      ],
      "metadata": {
        "colab": {
          "base_uri": "https://localhost:8080/"
        },
        "id": "-OYbeqjYUqB5",
        "outputId": "07d3c9df-98a9-481c-c1f5-7c3c4eb6ea93"
      },
      "execution_count": 19,
      "outputs": [
        {
          "output_type": "stream",
          "name": "stdout",
          "text": [
            "Training Set Shape: (42437, 59229)\n",
            "Testing Set Shape: (10610, 59229)\n"
          ]
        }
      ]
    },
    {
      "cell_type": "markdown",
      "source": [
        "Implementing DT"
      ],
      "metadata": {
        "id": "-bKVVo_tL5bU"
      }
    },
    {
      "cell_type": "code",
      "source": [
        "from sklearn.tree import DecisionTreeClassifier\n",
        "from sklearn.metrics import accuracy_score, classification_report\n",
        "\n",
        "# Initialize Decision Tree classifier\n",
        "dt_model = DecisionTreeClassifier(random_state=42)\n",
        "\n",
        "# Train the model\n",
        "dt_model.fit(X_train, y_train)\n",
        "\n",
        "# Make predictions on the test set\n",
        "y_pred_dt = dt_model.predict(X_test)\n",
        "\n",
        "# Evaluate the model\n",
        "accuracy_dt = accuracy_score(y_test, y_pred_dt)\n",
        "print(f\"Decision Tree Accuracy: {accuracy_dt:.4f}\")\n",
        "\n",
        "# Detailed classification report\n",
        "print(\"Classification Report:\\n\", classification_report(y_test, y_pred_dt))\n"
      ],
      "metadata": {
        "colab": {
          "base_uri": "https://localhost:8080/"
        },
        "id": "YOOtykwFKF6G",
        "outputId": "7f350ade-35e3-42f6-971d-8112624e37d4"
      },
      "execution_count": 22,
      "outputs": [
        {
          "output_type": "stream",
          "name": "stdout",
          "text": [
            "Decision Tree Accuracy: 0.9000\n",
            "Classification Report:\n",
            "               precision    recall  f1-score   support\n",
            "\n",
            "           0       0.91      0.94      0.93      7294\n",
            "           1       0.87      0.81      0.84      3306\n",
            "           2       0.00      0.00      0.00        10\n",
            "\n",
            "    accuracy                           0.90     10610\n",
            "   macro avg       0.59      0.58      0.59     10610\n",
            "weighted avg       0.90      0.90      0.90     10610\n",
            "\n"
          ]
        }
      ]
    },
    {
      "cell_type": "code",
      "source": [],
      "metadata": {
        "id": "2NGwAYkFL7tl"
      },
      "execution_count": null,
      "outputs": []
    }
  ]
}